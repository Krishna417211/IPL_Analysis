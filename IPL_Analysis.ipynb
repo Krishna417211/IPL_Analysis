{
  "nbformat": 4,
  "nbformat_minor": 0,
  "metadata": {
    "colab": {
      "provenance": []
    },
    "kernelspec": {
      "name": "python3",
      "display_name": "Python 3"
    },
    "language_info": {
      "name": "python"
    }
  },
  "cells": [
    {
      "cell_type": "code",
      "execution_count": 1,
      "metadata": {
        "colab": {
          "base_uri": "https://localhost:8080/",
          "height": 73
        },
        "id": "Of-3MMfV5rj8",
        "outputId": "4b6dfbe6-374d-453b-c39d-6c46cbc874ff"
      },
      "outputs": [
        {
          "output_type": "display_data",
          "data": {
            "text/plain": [
              "<IPython.core.display.HTML object>"
            ],
            "text/html": [
              "\n",
              "     <input type=\"file\" id=\"files-826c6902-02c5-4854-a28c-adcb1cfc7c2a\" name=\"files[]\" multiple disabled\n",
              "        style=\"border:none\" />\n",
              "     <output id=\"result-826c6902-02c5-4854-a28c-adcb1cfc7c2a\">\n",
              "      Upload widget is only available when the cell has been executed in the\n",
              "      current browser session. Please rerun this cell to enable.\n",
              "      </output>\n",
              "      <script>// Copyright 2017 Google LLC\n",
              "//\n",
              "// Licensed under the Apache License, Version 2.0 (the \"License\");\n",
              "// you may not use this file except in compliance with the License.\n",
              "// You may obtain a copy of the License at\n",
              "//\n",
              "//      http://www.apache.org/licenses/LICENSE-2.0\n",
              "//\n",
              "// Unless required by applicable law or agreed to in writing, software\n",
              "// distributed under the License is distributed on an \"AS IS\" BASIS,\n",
              "// WITHOUT WARRANTIES OR CONDITIONS OF ANY KIND, either express or implied.\n",
              "// See the License for the specific language governing permissions and\n",
              "// limitations under the License.\n",
              "\n",
              "/**\n",
              " * @fileoverview Helpers for google.colab Python module.\n",
              " */\n",
              "(function(scope) {\n",
              "function span(text, styleAttributes = {}) {\n",
              "  const element = document.createElement('span');\n",
              "  element.textContent = text;\n",
              "  for (const key of Object.keys(styleAttributes)) {\n",
              "    element.style[key] = styleAttributes[key];\n",
              "  }\n",
              "  return element;\n",
              "}\n",
              "\n",
              "// Max number of bytes which will be uploaded at a time.\n",
              "const MAX_PAYLOAD_SIZE = 100 * 1024;\n",
              "\n",
              "function _uploadFiles(inputId, outputId) {\n",
              "  const steps = uploadFilesStep(inputId, outputId);\n",
              "  const outputElement = document.getElementById(outputId);\n",
              "  // Cache steps on the outputElement to make it available for the next call\n",
              "  // to uploadFilesContinue from Python.\n",
              "  outputElement.steps = steps;\n",
              "\n",
              "  return _uploadFilesContinue(outputId);\n",
              "}\n",
              "\n",
              "// This is roughly an async generator (not supported in the browser yet),\n",
              "// where there are multiple asynchronous steps and the Python side is going\n",
              "// to poll for completion of each step.\n",
              "// This uses a Promise to block the python side on completion of each step,\n",
              "// then passes the result of the previous step as the input to the next step.\n",
              "function _uploadFilesContinue(outputId) {\n",
              "  const outputElement = document.getElementById(outputId);\n",
              "  const steps = outputElement.steps;\n",
              "\n",
              "  const next = steps.next(outputElement.lastPromiseValue);\n",
              "  return Promise.resolve(next.value.promise).then((value) => {\n",
              "    // Cache the last promise value to make it available to the next\n",
              "    // step of the generator.\n",
              "    outputElement.lastPromiseValue = value;\n",
              "    return next.value.response;\n",
              "  });\n",
              "}\n",
              "\n",
              "/**\n",
              " * Generator function which is called between each async step of the upload\n",
              " * process.\n",
              " * @param {string} inputId Element ID of the input file picker element.\n",
              " * @param {string} outputId Element ID of the output display.\n",
              " * @return {!Iterable<!Object>} Iterable of next steps.\n",
              " */\n",
              "function* uploadFilesStep(inputId, outputId) {\n",
              "  const inputElement = document.getElementById(inputId);\n",
              "  inputElement.disabled = false;\n",
              "\n",
              "  const outputElement = document.getElementById(outputId);\n",
              "  outputElement.innerHTML = '';\n",
              "\n",
              "  const pickedPromise = new Promise((resolve) => {\n",
              "    inputElement.addEventListener('change', (e) => {\n",
              "      resolve(e.target.files);\n",
              "    });\n",
              "  });\n",
              "\n",
              "  const cancel = document.createElement('button');\n",
              "  inputElement.parentElement.appendChild(cancel);\n",
              "  cancel.textContent = 'Cancel upload';\n",
              "  const cancelPromise = new Promise((resolve) => {\n",
              "    cancel.onclick = () => {\n",
              "      resolve(null);\n",
              "    };\n",
              "  });\n",
              "\n",
              "  // Wait for the user to pick the files.\n",
              "  const files = yield {\n",
              "    promise: Promise.race([pickedPromise, cancelPromise]),\n",
              "    response: {\n",
              "      action: 'starting',\n",
              "    }\n",
              "  };\n",
              "\n",
              "  cancel.remove();\n",
              "\n",
              "  // Disable the input element since further picks are not allowed.\n",
              "  inputElement.disabled = true;\n",
              "\n",
              "  if (!files) {\n",
              "    return {\n",
              "      response: {\n",
              "        action: 'complete',\n",
              "      }\n",
              "    };\n",
              "  }\n",
              "\n",
              "  for (const file of files) {\n",
              "    const li = document.createElement('li');\n",
              "    li.append(span(file.name, {fontWeight: 'bold'}));\n",
              "    li.append(span(\n",
              "        `(${file.type || 'n/a'}) - ${file.size} bytes, ` +\n",
              "        `last modified: ${\n",
              "            file.lastModifiedDate ? file.lastModifiedDate.toLocaleDateString() :\n",
              "                                    'n/a'} - `));\n",
              "    const percent = span('0% done');\n",
              "    li.appendChild(percent);\n",
              "\n",
              "    outputElement.appendChild(li);\n",
              "\n",
              "    const fileDataPromise = new Promise((resolve) => {\n",
              "      const reader = new FileReader();\n",
              "      reader.onload = (e) => {\n",
              "        resolve(e.target.result);\n",
              "      };\n",
              "      reader.readAsArrayBuffer(file);\n",
              "    });\n",
              "    // Wait for the data to be ready.\n",
              "    let fileData = yield {\n",
              "      promise: fileDataPromise,\n",
              "      response: {\n",
              "        action: 'continue',\n",
              "      }\n",
              "    };\n",
              "\n",
              "    // Use a chunked sending to avoid message size limits. See b/62115660.\n",
              "    let position = 0;\n",
              "    do {\n",
              "      const length = Math.min(fileData.byteLength - position, MAX_PAYLOAD_SIZE);\n",
              "      const chunk = new Uint8Array(fileData, position, length);\n",
              "      position += length;\n",
              "\n",
              "      const base64 = btoa(String.fromCharCode.apply(null, chunk));\n",
              "      yield {\n",
              "        response: {\n",
              "          action: 'append',\n",
              "          file: file.name,\n",
              "          data: base64,\n",
              "        },\n",
              "      };\n",
              "\n",
              "      let percentDone = fileData.byteLength === 0 ?\n",
              "          100 :\n",
              "          Math.round((position / fileData.byteLength) * 100);\n",
              "      percent.textContent = `${percentDone}% done`;\n",
              "\n",
              "    } while (position < fileData.byteLength);\n",
              "  }\n",
              "\n",
              "  // All done.\n",
              "  yield {\n",
              "    response: {\n",
              "      action: 'complete',\n",
              "    }\n",
              "  };\n",
              "}\n",
              "\n",
              "scope.google = scope.google || {};\n",
              "scope.google.colab = scope.google.colab || {};\n",
              "scope.google.colab._files = {\n",
              "  _uploadFiles,\n",
              "  _uploadFilesContinue,\n",
              "};\n",
              "})(self);\n",
              "</script> "
            ]
          },
          "metadata": {}
        },
        {
          "output_type": "stream",
          "name": "stdout",
          "text": [
            "Saving matches.csv to matches.csv\n"
          ]
        }
      ],
      "source": [
        "import numpy as np\n",
        "import pandas as pd\n",
        "import matplotlib.pyplot as plt\n",
        "import seaborn as sns\n",
        "\n",
        "from google.colab import files\n",
        "upload = files.upload()"
      ]
    },
    {
      "cell_type": "code",
      "source": [
        "#Reading the data\n",
        "df = pd.read_csv('/content/matches.csv')\n",
        "\n",
        "#Cleaning the data\n",
        "df.isnull()\n",
        "df.dropna(inplace = True)\n",
        "print(df.isnull().sum())\n",
        "print(df.duplicated().sum())\n",
        "df['date'] = pd.to_datetime(df['date'])\n",
        "df.columns = df.columns.str.replace(' ','_')\n",
        "print(df.head())"
      ],
      "metadata": {
        "colab": {
          "base_uri": "https://localhost:8080/"
        },
        "id": "Dq1DNRl66HET",
        "outputId": "7dd53c4f-6a03-47aa-daa1-6ff71f1c6949"
      },
      "execution_count": 21,
      "outputs": [
        {
          "output_type": "stream",
          "name": "stdout",
          "text": [
            "id                 0\n",
            "season             0\n",
            "city               0\n",
            "date               0\n",
            "match_type         0\n",
            "player_of_match    0\n",
            "venue              0\n",
            "team1              0\n",
            "team2              0\n",
            "toss_winner        0\n",
            "toss_decision      0\n",
            "winner             0\n",
            "result             0\n",
            "result_margin      0\n",
            "target_runs        0\n",
            "target_overs       0\n",
            "super_over         0\n",
            "method             0\n",
            "umpire1            0\n",
            "umpire2            0\n",
            "dtype: int64\n",
            "0\n",
            "        id   season       city       date match_type   player_of_match  \\\n",
            "38  336022  2007/08      Delhi 2008-05-17     League  DPMD Jayawardene   \n",
            "41  336025  2007/08    Kolkata 2008-05-18     League           M Ntini   \n",
            "60  392183     2009  Cape Town 2009-04-19     League        DL Vettori   \n",
            "63  392186     2009     Durban 2009-04-21     League          CH Gayle   \n",
            "89  392214     2009  Centurion 2009-05-07     League         ML Hayden   \n",
            "\n",
            "               venue                  team1                  team2  \\\n",
            "38  Feroz Shah Kotla       Delhi Daredevils        Kings XI Punjab   \n",
            "41      Eden Gardens  Kolkata Knight Riders    Chennai Super Kings   \n",
            "60          Newlands       Delhi Daredevils        Kings XI Punjab   \n",
            "63         Kingsmead        Kings XI Punjab  Kolkata Knight Riders   \n",
            "89   SuperSport Park    Chennai Super Kings        Kings XI Punjab   \n",
            "\n",
            "              toss_winner toss_decision                 winner   result  \\\n",
            "38       Delhi Daredevils           bat        Kings XI Punjab     runs   \n",
            "41  Kolkata Knight Riders           bat    Chennai Super Kings     runs   \n",
            "60       Delhi Daredevils         field       Delhi Daredevils  wickets   \n",
            "63  Kolkata Knight Riders         field  Kolkata Knight Riders     runs   \n",
            "89    Chennai Super Kings           bat    Chennai Super Kings     runs   \n",
            "\n",
            "    result_margin  target_runs  target_overs super_over method  \\\n",
            "38            6.0         89.0           8.0          N    D/L   \n",
            "41            3.0         53.0           8.0          N    D/L   \n",
            "60           10.0         54.0           6.0          N    D/L   \n",
            "63           11.0         69.0           9.2          N    D/L   \n",
            "89           12.0        187.0          18.0          N    D/L   \n",
            "\n",
            "           umpire1         umpire2  \n",
            "38  AV Jayaprakash     RE Koertzen  \n",
            "41       Asad Rauf     K Hariharan  \n",
            "60       MR Benson       SD Ranade  \n",
            "63       DJ Harper       SD Ranade  \n",
            "89       DJ Harper  TH Wijewardene  \n"
          ]
        }
      ]
    },
    {
      "cell_type": "code",
      "source": [
        "print(df.info())\n",
        "print(df.shape)\n",
        "print(df.describe())\n",
        "df['Year'] = df['date'].dt.year\n",
        "df['Month'] = df['date'].dt.month_name()\n"
      ],
      "metadata": {
        "colab": {
          "base_uri": "https://localhost:8080/"
        },
        "id": "kQbKGjyP9cFy",
        "outputId": "2c580bac-24bd-4892-88fc-c1bdb4ac1273"
      },
      "execution_count": 25,
      "outputs": [
        {
          "output_type": "stream",
          "name": "stdout",
          "text": [
            "<class 'pandas.core.frame.DataFrame'>\n",
            "Index: 21 entries, 38 to 1023\n",
            "Data columns (total 20 columns):\n",
            " #   Column           Non-Null Count  Dtype         \n",
            "---  ------           --------------  -----         \n",
            " 0   id               21 non-null     int64         \n",
            " 1   season           21 non-null     object        \n",
            " 2   city             21 non-null     object        \n",
            " 3   date             21 non-null     datetime64[ns]\n",
            " 4   match_type       21 non-null     object        \n",
            " 5   player_of_match  21 non-null     object        \n",
            " 6   venue            21 non-null     object        \n",
            " 7   team1            21 non-null     object        \n",
            " 8   team2            21 non-null     object        \n",
            " 9   toss_winner      21 non-null     object        \n",
            " 10  toss_decision    21 non-null     object        \n",
            " 11  winner           21 non-null     object        \n",
            " 12  result           21 non-null     object        \n",
            " 13  result_margin    21 non-null     float64       \n",
            " 14  target_runs      21 non-null     float64       \n",
            " 15  target_overs     21 non-null     float64       \n",
            " 16  super_over       21 non-null     object        \n",
            " 17  method           21 non-null     object        \n",
            " 18  umpire1          21 non-null     object        \n",
            " 19  umpire2          21 non-null     object        \n",
            "dtypes: datetime64[ns](1), float64(3), int64(1), object(15)\n",
            "memory usage: 3.4+ KB\n",
            "None\n",
            "(21, 20)\n",
            "                 id                           date  result_margin  \\\n",
            "count  2.100000e+01                             21      21.000000   \n",
            "mean   8.043823e+05  2014-09-02 20:34:17.142857216      13.238095   \n",
            "min    3.360220e+05            2008-05-17 00:00:00       3.000000   \n",
            "25%    5.012150e+05            2011-04-18 00:00:00       6.000000   \n",
            "50%    8.298070e+05            2015-05-15 00:00:00       8.000000   \n",
            "75%    1.082648e+06            2017-05-17 00:00:00      11.000000   \n",
            "max    1.370353e+06            2023-05-29 00:00:00      82.000000   \n",
            "std    3.458357e+05                            NaN      17.140317   \n",
            "\n",
            "       target_runs  target_overs  \n",
            "count    21.000000     21.000000  \n",
            "mean     99.571429     10.723810  \n",
            "min      43.000000      5.000000  \n",
            "25%      58.000000      8.000000  \n",
            "50%      81.000000     11.000000  \n",
            "75%     135.000000     13.000000  \n",
            "max     203.000000     18.000000  \n",
            "std      50.108454      3.909208  \n"
          ]
        }
      ]
    },
    {
      "cell_type": "code",
      "source": [
        "print(df.columns)"
      ],
      "metadata": {
        "colab": {
          "base_uri": "https://localhost:8080/"
        },
        "id": "P0SEUqd5LXYR",
        "outputId": "4ee64012-4016-496f-c170-e586385df570"
      },
      "execution_count": 33,
      "outputs": [
        {
          "output_type": "stream",
          "name": "stdout",
          "text": [
            "Index(['id', 'season', 'city', 'date', 'match_type', 'player_of_match',\n",
            "       'venue', 'team1', 'team2', 'toss_winner', 'toss_decision', 'winner',\n",
            "       'result', 'result_margin', 'target_runs', 'target_overs', 'super_over',\n",
            "       'method', 'umpire1', 'umpire2', 'Year', 'Month'],\n",
            "      dtype='object')\n"
          ]
        }
      ]
    },
    {
      "cell_type": "code",
      "source": [
        "# Which team has won the most matches?\n",
        "df['winner'].value_counts()\n",
        "Winners = df.groupby('result_margin')[['team1','team2']].sum()\n",
        "df['winner'].value_counts()"
      ],
      "metadata": {
        "colab": {
          "base_uri": "https://localhost:8080/",
          "height": 579
        },
        "id": "oAQZNULbAoch",
        "outputId": "b3a6e6e8-f5a5-4857-9353-c36a8d0172fa"
      },
      "execution_count": 32,
      "outputs": [
        {
          "output_type": "stream",
          "name": "stdout",
          "text": [
            "11 out of 21 matches had the toss winner also win the match.\n"
          ]
        },
        {
          "output_type": "execute_result",
          "data": {
            "text/plain": [
              "Index(['id', 'season', 'city', 'date', 'match_type', 'player_of_match',\n",
              "       'venue', 'team1', 'team2', 'toss_winner', 'toss_decision', 'winner',\n",
              "       'result', 'result_margin', 'target_runs', 'target_overs', 'super_over',\n",
              "       'method', 'umpire1', 'umpire2', 'Year', 'Month'],\n",
              "      dtype='object')"
            ]
          },
          "metadata": {},
          "execution_count": 32
        },
        {
          "output_type": "display_data",
          "data": {
            "text/plain": [
              "<Figure size 640x480 with 1 Axes>"
            ],
            "image/png": "[encoded data removed]"
          },
          "metadata": {}
        }
      ]
    },
    {
      "cell_type": "code",
      "source": [
        "# Who has won the most ‘Player of the Match’ awards?\n",
        "df['player_of_match'].value_counts().head()"
      ],
      "metadata": {
        "colab": {
          "base_uri": "https://localhost:8080/",
          "height": 272
        },
        "id": "LKhRVirsLkw_",
        "outputId": "7d0c1804-7f4a-455b-8a82-45ffd3956597"
      },
      "execution_count": 34,
      "outputs": [
        {
          "output_type": "execute_result",
          "data": {
            "text/plain": [
              "player_of_match\n",
              "V Kohli             2\n",
              "CH Gayle            2\n",
              "AB Dinda            2\n",
              "DPMD Jayawardene    1\n",
              "M Ntini             1\n",
              "Name: count, dtype: int64"
            ],
            "text/html": [
              "<div>\n",
              "<style scoped>\n",
              "    .dataframe tbody tr th:only-of-type {\n",
              "        vertical-align: middle;\n",
              "    }\n",
              "\n",
              "    .dataframe tbody tr th {\n",
              "        vertical-align: top;\n",
              "    }\n",
              "\n",
              "    .dataframe thead th {\n",
              "        text-align: right;\n",
              "    }\n",
              "</style>\n",
              "<table border=\"1\" class=\"dataframe\">\n",
              "  <thead>\n",
              "    <tr style=\"text-align: right;\">\n",
              "      <th></th>\n",
              "      <th>count</th>\n",
              "    </tr>\n",
              "    <tr>\n",
              "      <th>player_of_match</th>\n",
              "      <th></th>\n",
              "    </tr>\n",
              "  </thead>\n",
              "  <tbody>\n",
              "    <tr>\n",
              "      <th>V Kohli</th>\n",
              "      <td>2</td>\n",
              "    </tr>\n",
              "    <tr>\n",
              "      <th>CH Gayle</th>\n",
              "      <td>2</td>\n",
              "    </tr>\n",
              "    <tr>\n",
              "      <th>AB Dinda</th>\n",
              "      <td>2</td>\n",
              "    </tr>\n",
              "    <tr>\n",
              "      <th>DPMD Jayawardene</th>\n",
              "      <td>1</td>\n",
              "    </tr>\n",
              "    <tr>\n",
              "      <th>M Ntini</th>\n",
              "      <td>1</td>\n",
              "    </tr>\n",
              "  </tbody>\n",
              "</table>\n",
              "</div><br><label><b>dtype:</b> int64</label>"
            ]
          },
          "metadata": {},
          "execution_count": 34
        }
      ]
    },
    {
      "cell_type": "code",
      "source": [
        "# Distribution of toss decisions (bat/field)?\n",
        "df['toss_decision'].value_counts().plot(kind='bar', title='Toss Decisions',color = 'red')\n",
        "plt.show()"
      ],
      "metadata": {
        "colab": {
          "base_uri": "https://localhost:8080/",
          "height": 488
        },
        "id": "FcNovUOHLvYW",
        "outputId": "8e0f7fa2-f4ad-4cf6-89e6-f0cfe5f6a474"
      },
      "execution_count": 36,
      "outputs": [
        {
          "output_type": "display_data",
          "data": {
            "text/plain": [
              "<Figure size 640x480 with 1 Axes>"
            ],
            "image/png": "[encoded data removed]"
          },
          "metadata": {}
        }
      ]
    },
    {
      "cell_type": "code",
      "source": [
        "# Which city hosted the most matches?\n",
        "df['city'].value_counts().plot(kind='barh', title='Cities by Match Count')"
      ],
      "metadata": {
        "colab": {
          "base_uri": "https://localhost:8080/",
          "height": 470
        },
        "id": "4ek1d8qYMIDY",
        "outputId": "dec080ac-1568-4e6a-9f36-406b8ec31daf"
      },
      "execution_count": 37,
      "outputs": [
        {
          "output_type": "execute_result",
          "data": {
            "text/plain": [
              "<Axes: title={'center': 'Cities by Match Count'}, ylabel='city'>"
            ]
          },
          "metadata": {},
          "execution_count": 37
        },
        {
          "output_type": "display_data",
          "data": {
            "text/plain": [
              "<Figure size 640x480 with 1 Axes>"
            ],
            "image/png": "[encoded data removed]"
          },
          "metadata": {}
        }
      ]
    },
    {
      "cell_type": "code",
      "source": [
        "# Which seasons saw the most matches?\n",
        "df['season'].value_counts().sort_index().plot(kind='bar', title='Matches per Season',color = 'purple')"
      ],
      "metadata": {
        "colab": {
          "base_uri": "https://localhost:8080/",
          "height": 533
        },
        "id": "8EyU5ppYMSfV",
        "outputId": "19a517c9-4a5d-4b7a-dd50-1f0de154a5a9"
      },
      "execution_count": 41,
      "outputs": [
        {
          "output_type": "execute_result",
          "data": {
            "text/plain": [
              "<Axes: title={'center': 'Matches per Season'}, xlabel='season'>"
            ]
          },
          "metadata": {},
          "execution_count": 41
        },
        {
          "output_type": "display_data",
          "data": {
            "text/plain": [
              "<Figure size 640x480 with 1 Axes>"
            ],
            "image/png": "[encoded data removed]"
          },
          "metadata": {}
        }
      ]
    },
    {
      "cell_type": "code",
      "source": [
        "# Is there any correlation between winning the toss and winning the match?\n",
        "(df['toss_winner'] == df['winner']).value_counts()"
      ],
      "metadata": {
        "colab": {
          "base_uri": "https://localhost:8080/",
          "height": 146
        },
        "id": "tuVoCxaUMn5S",
        "outputId": "8ed91ef5-88db-41db-a1f5-591cefab3ccb"
      },
      "execution_count": 44,
      "outputs": [
        {
          "output_type": "execute_result",
          "data": {
            "text/plain": [
              "True     11\n",
              "False    10\n",
              "Name: count, dtype: int64"
            ],
            "text/html": [
              "<div>\n",
              "<style scoped>\n",
              "    .dataframe tbody tr th:only-of-type {\n",
              "        vertical-align: middle;\n",
              "    }\n",
              "\n",
              "    .dataframe tbody tr th {\n",
              "        vertical-align: top;\n",
              "    }\n",
              "\n",
              "    .dataframe thead th {\n",
              "        text-align: right;\n",
              "    }\n",
              "</style>\n",
              "<table border=\"1\" class=\"dataframe\">\n",
              "  <thead>\n",
              "    <tr style=\"text-align: right;\">\n",
              "      <th></th>\n",
              "      <th>count</th>\n",
              "    </tr>\n",
              "  </thead>\n",
              "  <tbody>\n",
              "    <tr>\n",
              "      <th>True</th>\n",
              "      <td>11</td>\n",
              "    </tr>\n",
              "    <tr>\n",
              "      <th>False</th>\n",
              "      <td>10</td>\n",
              "    </tr>\n",
              "  </tbody>\n",
              "</table>\n",
              "</div><br><label><b>dtype:</b> int64</label>"
            ]
          },
          "metadata": {},
          "execution_count": 44
        }
      ]
    },
    {
      "cell_type": "code",
      "source": [
        "# Is there any correlation between winning the toss and winning the match?\n",
        "same = (df['toss_winner'] == df['winner']).sum()\n",
        "print(f\"{same} out of {len(df)} matches had the toss winner also win the match.\")"
      ],
      "metadata": {
        "colab": {
          "base_uri": "https://localhost:8080/"
        },
        "id": "i0K0U7KjPgwF",
        "outputId": "07207de2-14ac-494a-9737-337a1980088e"
      },
      "execution_count": 45,
      "outputs": [
        {
          "output_type": "stream",
          "name": "stdout",
          "text": [
            "11 out of 21 matches had the toss winner also win the match.\n"
          ]
        }
      ]
    },
    {
      "cell_type": "code",
      "source": [
        "# What are the highest and lowest result margins?\n",
        "df['result_margin'].max(), df['result_margin'].min()"
      ],
      "metadata": {
        "colab": {
          "base_uri": "https://localhost:8080/"
        },
        "id": "gz1TD8JLPqgf",
        "outputId": "19f5d1ff-a01d-4e68-9eaa-29f45d363f00"
      },
      "execution_count": 46,
      "outputs": [
        {
          "output_type": "execute_result",
          "data": {
            "text/plain": [
              "(82.0, 3.0)"
            ]
          },
          "metadata": {},
          "execution_count": 46
        }
      ]
    },
    {
      "cell_type": "code",
      "source": [
        "# Target score distribution and trend over the years?\n",
        "df['target_runs'].plot(kind='hist', bins=10, title='Target Runs Distribution',color='black')"
      ],
      "metadata": {
        "colab": {
          "base_uri": "https://localhost:8080/",
          "height": 470
        },
        "id": "WtoNvMs-P6eM",
        "outputId": "244136b7-b861-43bb-a157-2402f0857043"
      },
      "execution_count": 49,
      "outputs": [
        {
          "output_type": "execute_result",
          "data": {
            "text/plain": [
              "<Axes: title={'center': 'Target Runs Distribution'}, ylabel='Frequency'>"
            ]
          },
          "metadata": {},
          "execution_count": 49
        },
        {
          "output_type": "display_data",
          "data": {
            "text/plain": [
              "<Figure size 640x480 with 1 Axes>"
            ],
            "image/png": "[encoded data removed]"
          },
          "metadata": {}
        }
      ]
    },
    {
      "cell_type": "code",
      "source": [
        "# Target score distribution and trend over the years?\n",
        "df.groupby(df['date'].dt.year)['target_runs'].mean().plot(marker='o', title='Avg Target Runs per Year')\n"
      ],
      "metadata": {
        "colab": {
          "base_uri": "https://localhost:8080/",
          "height": 490
        },
        "id": "_3RSuJhlQc_i",
        "outputId": "b91dba3b-a26e-4f61-dcb1-9a13ff73db52"
      },
      "execution_count": 50,
      "outputs": [
        {
          "output_type": "execute_result",
          "data": {
            "text/plain": [
              "<Axes: title={'center': 'Avg Target Runs per Year'}, xlabel='date'>"
            ]
          },
          "metadata": {},
          "execution_count": 50
        },
        {
          "output_type": "display_data",
          "data": {
            "text/plain": [
              "<Figure size 640x480 with 1 Axes>"
            ],
            "image/png": "[encoded data removed]"
          },
          "metadata": {}
        }
      ]
    },
    {
      "cell_type": "code",
      "source": [
        "# Number of matches decided by Super Over?\n",
        "df['super_over'].value_counts()"
      ],
      "metadata": {
        "colab": {
          "base_uri": "https://localhost:8080/",
          "height": 146
        },
        "id": "PGM0ps57QtUS",
        "outputId": "51e9852c-94e8-44ad-80c1-dcbb3f0e5290"
      },
      "execution_count": 51,
      "outputs": [
        {
          "output_type": "execute_result",
          "data": {
            "text/plain": [
              "super_over\n",
              "N    21\n",
              "Name: count, dtype: int64"
            ],
            "text/html": [
              "<div>\n",
              "<style scoped>\n",
              "    .dataframe tbody tr th:only-of-type {\n",
              "        vertical-align: middle;\n",
              "    }\n",
              "\n",
              "    .dataframe tbody tr th {\n",
              "        vertical-align: top;\n",
              "    }\n",
              "\n",
              "    .dataframe thead th {\n",
              "        text-align: right;\n",
              "    }\n",
              "</style>\n",
              "<table border=\"1\" class=\"dataframe\">\n",
              "  <thead>\n",
              "    <tr style=\"text-align: right;\">\n",
              "      <th></th>\n",
              "      <th>count</th>\n",
              "    </tr>\n",
              "    <tr>\n",
              "      <th>super_over</th>\n",
              "      <th></th>\n",
              "    </tr>\n",
              "  </thead>\n",
              "  <tbody>\n",
              "    <tr>\n",
              "      <th>N</th>\n",
              "      <td>21</td>\n",
              "    </tr>\n",
              "  </tbody>\n",
              "</table>\n",
              "</div><br><label><b>dtype:</b> int64</label>"
            ]
          },
          "metadata": {},
          "execution_count": 51
        }
      ]
    },
    {
      "cell_type": "code",
      "source": [
        "# Umpire frequency – who officiated the most?\n",
        "df[['umpire1', 'umpire2']].stack().value_counts().head()"
      ],
      "metadata": {
        "colab": {
          "base_uri": "https://localhost:8080/",
          "height": 240
        },
        "id": "j3EAGcoQRXoi",
        "outputId": "9587118f-a3f5-4a1a-c337-15a3d580f16b"
      },
      "execution_count": 52,
      "outputs": [
        {
          "output_type": "execute_result",
          "data": {
            "text/plain": [
              "Nitin Menon     4\n",
              "BNJ Oxenford    3\n",
              "RE Koertzen     2\n",
              "Asad Rauf       2\n",
              "DJ Harper       2\n",
              "Name: count, dtype: int64"
            ],
            "text/html": [
              "<div>\n",
              "<style scoped>\n",
              "    .dataframe tbody tr th:only-of-type {\n",
              "        vertical-align: middle;\n",
              "    }\n",
              "\n",
              "    .dataframe tbody tr th {\n",
              "        vertical-align: top;\n",
              "    }\n",
              "\n",
              "    .dataframe thead th {\n",
              "        text-align: right;\n",
              "    }\n",
              "</style>\n",
              "<table border=\"1\" class=\"dataframe\">\n",
              "  <thead>\n",
              "    <tr style=\"text-align: right;\">\n",
              "      <th></th>\n",
              "      <th>count</th>\n",
              "    </tr>\n",
              "  </thead>\n",
              "  <tbody>\n",
              "    <tr>\n",
              "      <th>Nitin Menon</th>\n",
              "      <td>4</td>\n",
              "    </tr>\n",
              "    <tr>\n",
              "      <th>BNJ Oxenford</th>\n",
              "      <td>3</td>\n",
              "    </tr>\n",
              "    <tr>\n",
              "      <th>RE Koertzen</th>\n",
              "      <td>2</td>\n",
              "    </tr>\n",
              "    <tr>\n",
              "      <th>Asad Rauf</th>\n",
              "      <td>2</td>\n",
              "    </tr>\n",
              "    <tr>\n",
              "      <th>DJ Harper</th>\n",
              "      <td>2</td>\n",
              "    </tr>\n",
              "  </tbody>\n",
              "</table>\n",
              "</div><br><label><b>dtype:</b> int64</label>"
            ]
          },
          "metadata": {},
          "execution_count": 52
        }
      ]
    },
    {
      "cell_type": "code",
      "source": [
        "df.to_csv('IPL_match_Analysis.csv')\n",
        "print('Your csv has been saved succesfully')"
      ],
      "metadata": {
        "colab": {
          "base_uri": "https://localhost:8080/"
        },
        "id": "UdnylivxTtUq",
        "outputId": "b4103bf0-9f37-4d84-8008-504ffbe22193"
      },
      "execution_count": 53,
      "outputs": [
        {
          "output_type": "stream",
          "name": "stdout",
          "text": [
            "Your csv has been saved succesfully\n"
          ]
        }
      ]
    }
  ]
}